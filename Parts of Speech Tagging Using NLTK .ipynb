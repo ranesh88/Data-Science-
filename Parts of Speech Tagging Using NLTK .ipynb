{
 "cells": [
  {
   "cell_type": "markdown",
   "id": "d41274dc-aaae-40a9-a8bd-54cf6ce01075",
   "metadata": {},
   "source": [
    "### Parts of Speech Tagging Using NLTK"
   ]
  },
  {
   "cell_type": "markdown",
   "id": "db971b6f-aed5-4a1e-94c5-cf34ab39b3d1",
   "metadata": {},
   "source": [
    "\n",
    "The POS tagger in the NLTK library outputs specific tags for certain words. The list of POS tags is as follows, with examples of what each POS stands for.\n",
    "\n",
    "\n",
    "CC coordinating conjunction\n",
    "\n",
    "CD cardinal digit\n",
    "\n",
    "DT determiner\n",
    "\n",
    "EX existential there (like: “there is” … think of it like “there exists”)\n",
    "\n",
    "FW foreign word\n",
    "\n",
    "IN preposition/subordinating conjunction\n",
    "\n",
    "JJ adjective ‘big’\n",
    "\n",
    "JJR adjective, comparative ‘bigger’\n",
    "\n",
    "JJS adjective, superlative ‘biggest’\n",
    "\n",
    "LS list marker 1)\n",
    "\n",
    "MD modal could, will\n",
    "\n",
    "NN noun, singular ‘desk’\n",
    "\n",
    "NNS noun plural ‘desks’\n",
    "\n",
    "NNP proper noun, singular ‘Harrison’\n",
    "\n",
    "NNPS proper noun, plural ‘Americans’\n",
    "\n",
    "PDT predeterminer ‘all the kids’\n",
    "\n",
    "POS possessive ending parent’s\n",
    "\n",
    "PRP personal pronoun I, he, she\n",
    "\n",
    "PRP$ possessive pronoun my, his, hers\n",
    "\n",
    "RB adverb very, silently,\n",
    "\n",
    "RBR adverb, comparative better\n",
    "\n",
    "RBS adverb, superlative best\n",
    "\n",
    "RP particle give up\n",
    "\n",
    "TO, to go ‘to’ the store.\n",
    "\n",
    "UH interjection, errrrrrrrm\n",
    "\n",
    "VB verb, base form take\n",
    "\n",
    "VBD verb, past tense took\n",
    "\n",
    "VBG verb, gerund/present participle taking\n",
    "\n",
    "VBN verb, past participle taken\n",
    "\n",
    "VBP verb, sing. present, non-3d take\n",
    "\n",
    "VBZ verb, 3rd person sing. present takes\n",
    "\n",
    "WDT wh-determiner which\n",
    "\n",
    "WP wh-pronoun who, what\n",
    "\n",
    "WP$ possessive wh-pronoun whose\n",
    "\n",
    "WRB wh-abverb where, when\n"
   ]
  },
  {
   "cell_type": "code",
   "execution_count": 2,
   "id": "019bf124-bb25-4e7b-af98-a5c11953f8b5",
   "metadata": {},
   "outputs": [],
   "source": [
    "## Dr. Abdul Kalam Speech\n",
    "paragraph =\"\"\"\n",
    "I have three visions for India. In 3000 years of our history, people from all over the world have come and invaded us, captured our lands, conquered our minds. From Alexander onwards, the Greeks, the Turks, the Moguls, the Portuguese, the British, the French, the Dutch, all of them came and looted us, took over what was ours. Yet we have not done this to any other nation. We have not conquered anyone. We have not grabbed their land, their culture, their history and tried to enforce our way of life on them. Why? Because we respect the freedom of others.\n",
    "\n",
    "That is why my first vision is that of freedom. I believe that India got its first vision of this in 1857, when we started the War of Independence. It is this freedom that we must protect and nurture and build on. If we are not free, no one will respect us.\n",
    "\n",
    "My second vision for India’s development. For fifty years we have been a developing nation. It is time we see ourselves as a developed nation. We are among the top 5 nations of the world in terms of GDP. We have a 10 percent growth rate in most areas. Our poverty levels are falling. Our achievements are being globally recognised today. Yet we lack the self-confidence to see ourselves as a developed nation, self-reliant and self-assured. Isn’t this incorrect?\n",
    "\n",
    "I have a third vision. India must stand up to the world. Because I believe that unless India stands up to the world, no one will respect us. Only strength respects strength. We must be strong not only as a military power but also as an economic power. Both must go hand-in-hand. My good fortune was to have worked with three great minds. Dr. Vikram Sarabhai of the Dept. of space, Professor Satish Dhawan, who succeeded him and Dr. Brahm Prakash, father of nuclear material. I was lucky to have worked with all three of them closely and consider this the great opportunity of my life. I see four milestones in my career:\n",
    "\n",
    "Twenty years I spent in ISRO. I was given the opportunity to be the project director for India’s first satellite launch vehicle, SLV3. The one that launched Rohini. These years played a very important role in my life of Scienc. After my ISRO years, I joined DRDO and got a chance to be the part of India’s guided missile program. It was my second bliss when Agni met its mission requirements in 1994.\n",
    "\n",
    "The Dept. of Atomic Energy and DRDO had this tremendous partnership in the recent nuclear tests, on May 11 and 13. This was the third bliss. The joy of participating with my team in these nuclear tests and proving to the world that India can make it, that we are no longer a developing nation but one of them. It made me feel very proud as an Indian. The fact that we have now developed for Agni a re-entry structure, for which we have developed this new material. A very light material called carbon-carbon.\n",
    "\n",
    "One day an orthopedic surgeon from Nizam Institute of Medical Sciences visited my laboratory. He lifted the material and found it so light that he took me to his hospital and showed me his patients. There were these little girls and boys with heavy metallic calipers weighing over three kg. each, dragging their feet around.\n",
    "\"\"\""
   ]
  },
  {
   "cell_type": "code",
   "execution_count": 4,
   "id": "dc07a357-d9e1-4d36-8972-2da0f8a556d9",
   "metadata": {},
   "outputs": [
    {
     "name": "stdout",
     "output_type": "stream",
     "text": [
      "\n",
      "I have three visions for India. In 3000 years of our history, people from all over the world have come and invaded us, captured our lands, conquered our minds. From Alexander onwards, the Greeks, the Turks, the Moguls, the Portuguese, the British, the French, the Dutch, all of them came and looted us, took over what was ours. Yet we have not done this to any other nation. We have not conquered anyone. We have not grabbed their land, their culture, their history and tried to enforce our way of life on them. Why? Because we respect the freedom of others.\n",
      "\n",
      "That is why my first vision is that of freedom. I believe that India got its first vision of this in 1857, when we started the War of Independence. It is this freedom that we must protect and nurture and build on. If we are not free, no one will respect us.\n",
      "\n",
      "My second vision for India’s development. For fifty years we have been a developing nation. It is time we see ourselves as a developed nation. We are among the top 5 nations of the world in terms of GDP. We have a 10 percent growth rate in most areas. Our poverty levels are falling. Our achievements are being globally recognised today. Yet we lack the self-confidence to see ourselves as a developed nation, self-reliant and self-assured. Isn’t this incorrect?\n",
      "\n",
      "I have a third vision. India must stand up to the world. Because I believe that unless India stands up to the world, no one will respect us. Only strength respects strength. We must be strong not only as a military power but also as an economic power. Both must go hand-in-hand. My good fortune was to have worked with three great minds. Dr. Vikram Sarabhai of the Dept. of space, Professor Satish Dhawan, who succeeded him and Dr. Brahm Prakash, father of nuclear material. I was lucky to have worked with all three of them closely and consider this the great opportunity of my life. I see four milestones in my career:\n",
      "\n",
      "Twenty years I spent in ISRO. I was given the opportunity to be the project director for India’s first satellite launch vehicle, SLV3. The one that launched Rohini. These years played a very important role in my life of Scienc. After my ISRO years, I joined DRDO and got a chance to be the part of India’s guided missile program. It was my second bliss when Agni met its mission requirements in 1994.\n",
      "\n",
      "The Dept. of Atomic Energy and DRDO had this tremendous partnership in the recent nuclear tests, on May 11 and 13. This was the third bliss. The joy of participating with my team in these nuclear tests and proving to the world that India can make it, that we are no longer a developing nation but one of them. It made me feel very proud as an Indian. The fact that we have now developed for Agni a re-entry structure, for which we have developed this new material. A very light material called carbon-carbon.\n",
      "\n",
      "One day an orthopedic surgeon from Nizam Institute of Medical Sciences visited my laboratory. He lifted the material and found it so light that he took me to his hospital and showed me his patients. There were these little girls and boys with heavy metallic calipers weighing over three kg. each, dragging their feet around.\n",
      "\n"
     ]
    }
   ],
   "source": [
    "print(paragraph)"
   ]
  },
  {
   "cell_type": "code",
   "execution_count": 5,
   "id": "d3e86769-1c1d-481c-ad34-8a74bdaaf6f4",
   "metadata": {},
   "outputs": [
    {
     "name": "stdout",
     "output_type": "stream",
     "text": [
      "['i', 'me', 'my', 'myself', 'we', 'our', 'ours', 'ourselves', 'you', \"you're\", \"you've\", \"you'll\", \"you'd\", 'your', 'yours', 'yourself', 'yourselves', 'he', 'him', 'his', 'himself', 'she', \"she's\", 'her', 'hers', 'herself', 'it', \"it's\", 'its', 'itself', 'they', 'them', 'their', 'theirs', 'themselves', 'what', 'which', 'who', 'whom', 'this', 'that', \"that'll\", 'these', 'those', 'am', 'is', 'are', 'was', 'were', 'be', 'been', 'being', 'have', 'has', 'had', 'having', 'do', 'does', 'did', 'doing', 'a', 'an', 'the', 'and', 'but', 'if', 'or', 'because', 'as', 'until', 'while', 'of', 'at', 'by', 'for', 'with', 'about', 'against', 'between', 'into', 'through', 'during', 'before', 'after', 'above', 'below', 'to', 'from', 'up', 'down', 'in', 'out', 'on', 'off', 'over', 'under', 'again', 'further', 'then', 'once', 'here', 'there', 'when', 'where', 'why', 'how', 'all', 'any', 'both', 'each', 'few', 'more', 'most', 'other', 'some', 'such', 'no', 'nor', 'not', 'only', 'own', 'same', 'so', 'than', 'too', 'very', 's', 't', 'can', 'will', 'just', 'don', \"don't\", 'should', \"should've\", 'now', 'd', 'll', 'm', 'o', 're', 've', 'y', 'ain', 'aren', \"aren't\", 'couldn', \"couldn't\", 'didn', \"didn't\", 'doesn', \"doesn't\", 'hadn', \"hadn't\", 'hasn', \"hasn't\", 'haven', \"haven't\", 'isn', \"isn't\", 'ma', 'mightn', \"mightn't\", 'mustn', \"mustn't\", 'needn', \"needn't\", 'shan', \"shan't\", 'shouldn', \"shouldn't\", 'wasn', \"wasn't\", 'weren', \"weren't\", 'won', \"won't\", 'wouldn', \"wouldn't\"]\n"
     ]
    },
    {
     "name": "stderr",
     "output_type": "stream",
     "text": [
      "[nltk_data] Downloading package stopwords to\n",
      "[nltk_data]     C:\\Users\\user\\AppData\\Roaming\\nltk_data...\n",
      "[nltk_data]   Package stopwords is already up-to-date!\n"
     ]
    }
   ],
   "source": [
    "## Stopwords\n",
    "from nltk.corpus import stopwords\n",
    "import nltk\n",
    "nltk.download('stopwords')\n",
    "print(stopwords.words('english'))"
   ]
  },
  {
   "cell_type": "code",
   "execution_count": 6,
   "id": "5dea4592-0bc0-4938-bb82-5090bb3c3b5f",
   "metadata": {},
   "outputs": [],
   "source": [
    "stop_words = stopwords.words('english')"
   ]
  },
  {
   "cell_type": "code",
   "execution_count": 7,
   "id": "e21c15fb-5ae6-4b3a-92ba-9434faa78433",
   "metadata": {},
   "outputs": [],
   "source": [
    "## Apply Setence Tokenizer\n",
    "sentence_list = nltk.sent_tokenize(paragraph)"
   ]
  },
  {
   "cell_type": "code",
   "execution_count": 8,
   "id": "4024e7f7-07ff-4f61-9034-895e44032d0b",
   "metadata": {},
   "outputs": [
    {
     "data": {
      "text/plain": [
       "['\\nI have three visions for India.',\n",
       " 'In 3000 years of our history, people from all over the world have come and invaded us, captured our lands, conquered our minds.',\n",
       " 'From Alexander onwards, the Greeks, the Turks, the Moguls, the Portuguese, the British, the French, the Dutch, all of them came and looted us, took over what was ours.',\n",
       " 'Yet we have not done this to any other nation.',\n",
       " 'We have not conquered anyone.',\n",
       " 'We have not grabbed their land, their culture, their history and tried to enforce our way of life on them.',\n",
       " 'Why?',\n",
       " 'Because we respect the freedom of others.',\n",
       " 'That is why my first vision is that of freedom.',\n",
       " 'I believe that India got its first vision of this in 1857, when we started the War of Independence.',\n",
       " 'It is this freedom that we must protect and nurture and build on.',\n",
       " 'If we are not free, no one will respect us.',\n",
       " 'My second vision for India’s development.',\n",
       " 'For fifty years we have been a developing nation.',\n",
       " 'It is time we see ourselves as a developed nation.',\n",
       " 'We are among the top 5 nations of the world in terms of GDP.',\n",
       " 'We have a 10 percent growth rate in most areas.',\n",
       " 'Our poverty levels are falling.',\n",
       " 'Our achievements are being globally recognised today.',\n",
       " 'Yet we lack the self-confidence to see ourselves as a developed nation, self-reliant and self-assured.',\n",
       " 'Isn’t this incorrect?',\n",
       " 'I have a third vision.',\n",
       " 'India must stand up to the world.',\n",
       " 'Because I believe that unless India stands up to the world, no one will respect us.',\n",
       " 'Only strength respects strength.',\n",
       " 'We must be strong not only as a military power but also as an economic power.',\n",
       " 'Both must go hand-in-hand.',\n",
       " 'My good fortune was to have worked with three great minds.',\n",
       " 'Dr. Vikram Sarabhai of the Dept.',\n",
       " 'of space, Professor Satish Dhawan, who succeeded him and Dr. Brahm Prakash, father of nuclear material.',\n",
       " 'I was lucky to have worked with all three of them closely and consider this the great opportunity of my life.',\n",
       " 'I see four milestones in my career:\\n\\nTwenty years I spent in ISRO.',\n",
       " 'I was given the opportunity to be the project director for India’s first satellite launch vehicle, SLV3.',\n",
       " 'The one that launched Rohini.',\n",
       " 'These years played a very important role in my life of Scienc.',\n",
       " 'After my ISRO years, I joined DRDO and got a chance to be the part of India’s guided missile program.',\n",
       " 'It was my second bliss when Agni met its mission requirements in 1994.',\n",
       " 'The Dept.',\n",
       " 'of Atomic Energy and DRDO had this tremendous partnership in the recent nuclear tests, on May 11 and 13.',\n",
       " 'This was the third bliss.',\n",
       " 'The joy of participating with my team in these nuclear tests and proving to the world that India can make it, that we are no longer a developing nation but one of them.',\n",
       " 'It made me feel very proud as an Indian.',\n",
       " 'The fact that we have now developed for Agni a re-entry structure, for which we have developed this new material.',\n",
       " 'A very light material called carbon-carbon.',\n",
       " 'One day an orthopedic surgeon from Nizam Institute of Medical Sciences visited my laboratory.',\n",
       " 'He lifted the material and found it so light that he took me to his hospital and showed me his patients.',\n",
       " 'There were these little girls and boys with heavy metallic calipers weighing over three kg.',\n",
       " 'each, dragging their feet around.']"
      ]
     },
     "execution_count": 8,
     "metadata": {},
     "output_type": "execute_result"
    }
   ],
   "source": [
    "sentence_list"
   ]
  },
  {
   "cell_type": "code",
   "execution_count": 16,
   "id": "c0cd550d-b0d4-4ff2-82b7-2c8f9212a324",
   "metadata": {},
   "outputs": [
    {
     "name": "stdout",
     "output_type": "stream",
     "text": [
      "[('I', 'PRP'), ('three', 'CD'), ('visions', 'NNS'), ('India', 'NNP'), ('.', '.')]\n",
      "[('In', 'IN'), ('3000', 'CD'), ('years', 'NNS'), ('history', 'NN'), (',', ','), ('people', 'NNS'), ('world', 'NN'), ('come', 'VBP'), ('invaded', 'VBN'), ('us', 'PRP'), (',', ','), ('captured', 'VBD'), ('lands', 'NNS'), (',', ','), ('conquered', 'VBD'), ('minds', 'NNS'), ('.', '.')]\n",
      "[('From', 'IN'), ('Alexander', 'NNP'), ('onwards', 'NNS'), (',', ','), ('Greeks', 'NNP'), (',', ','), ('Turks', 'NNP'), (',', ','), ('Moguls', 'NNP'), (',', ','), ('Portuguese', 'NNP'), (',', ','), ('British', 'NNP'), (',', ','), ('French', 'NNP'), (',', ','), ('Dutch', 'NNP'), (',', ','), ('came', 'VBD'), ('looted', 'JJ'), ('us', 'PRP'), (',', ','), ('took', 'VBD'), ('.', '.')]\n",
      "[('Yet', 'RB'), ('done', 'VBN'), ('nation', 'NN'), ('.', '.')]\n",
      "[('We', 'PRP'), ('conquered', 'VBD'), ('anyone', 'NN'), ('.', '.')]\n",
      "[('We', 'PRP'), ('grabbed', 'VBD'), ('land', 'NN'), (',', ','), ('culture', 'NN'), (',', ','), ('history', 'NN'), ('tried', 'VBD'), ('enforce', 'JJ'), ('way', 'NN'), ('life', 'NN'), ('.', '.')]\n",
      "[('Why', 'WRB'), ('?', '.')]\n",
      "[('Because', 'IN'), ('respect', 'NN'), ('freedom', 'NN'), ('others', 'NNS'), ('.', '.')]\n",
      "[('That', 'DT'), ('first', 'JJ'), ('vision', 'NN'), ('freedom', 'NN'), ('.', '.')]\n",
      "[('I', 'PRP'), ('believe', 'VBP'), ('India', 'NNP'), ('got', 'VBD'), ('first', 'JJ'), ('vision', 'NN'), ('1857', 'CD'), (',', ','), ('started', 'VBD'), ('War', 'NNP'), ('Independence', 'NNP'), ('.', '.')]\n",
      "[('It', 'PRP'), ('freedom', 'NN'), ('must', 'MD'), ('protect', 'VB'), ('nurture', 'NN'), ('build', 'NN'), ('.', '.')]\n",
      "[('If', 'IN'), ('free', 'JJ'), (',', ','), ('one', 'CD'), ('respect', 'NN'), ('us', 'PRP'), ('.', '.')]\n",
      "[('My', 'PRP$'), ('second', 'JJ'), ('vision', 'NN'), ('India', 'NNP'), ('’', 'NNP'), ('development', 'NN'), ('.', '.')]\n",
      "[('For', 'IN'), ('fifty', 'JJ'), ('years', 'NNS'), ('developing', 'VBG'), ('nation', 'NN'), ('.', '.')]\n",
      "[('It', 'PRP'), ('time', 'NN'), ('see', 'VB'), ('developed', 'JJ'), ('nation', 'NN'), ('.', '.')]\n",
      "[('We', 'PRP'), ('among', 'IN'), ('top', 'JJ'), ('5', 'CD'), ('nations', 'NNS'), ('world', 'NN'), ('terms', 'NNS'), ('GDP', 'NNP'), ('.', '.')]\n",
      "[('We', 'PRP'), ('10', 'CD'), ('percent', 'JJ'), ('growth', 'NN'), ('rate', 'NN'), ('areas', 'NNS'), ('.', '.')]\n",
      "[('Our', 'PRP$'), ('poverty', 'NN'), ('levels', 'NNS'), ('falling', 'VBG'), ('.', '.')]\n",
      "[('Our', 'PRP$'), ('achievements', 'NNS'), ('globally', 'RB'), ('recognised', 'VBN'), ('today', 'NN'), ('.', '.')]\n",
      "[('Yet', 'RB'), ('lack', 'JJ'), ('self-confidence', 'NN'), ('see', 'NN'), ('developed', 'JJ'), ('nation', 'NN'), (',', ','), ('self-reliant', 'JJ'), ('self-assured', 'JJ'), ('.', '.')]\n",
      "[('Isn', 'NNP'), ('’', 'NNP'), ('incorrect', 'NN'), ('?', '.')]\n",
      "[('I', 'PRP'), ('third', 'JJ'), ('vision', 'NN'), ('.', '.')]\n",
      "[('India', 'NNP'), ('must', 'MD'), ('stand', 'VB'), ('world', 'NN'), ('.', '.')]\n",
      "[('Because', 'IN'), ('I', 'PRP'), ('believe', 'VBP'), ('unless', 'IN'), ('India', 'NNP'), ('stands', 'VBZ'), ('world', 'NN'), (',', ','), ('one', 'CD'), ('respect', 'NN'), ('us', 'PRP'), ('.', '.')]\n",
      "[('Only', 'RB'), ('strength', 'NN'), ('respects', 'NNS'), ('strength', 'NN'), ('.', '.')]\n",
      "[('We', 'PRP'), ('must', 'MD'), ('strong', 'JJ'), ('military', 'JJ'), ('power', 'NN'), ('also', 'RB'), ('economic', 'JJ'), ('power', 'NN'), ('.', '.')]\n",
      "[('Both', 'DT'), ('must', 'MD'), ('go', 'VB'), ('hand-in-hand', 'NN'), ('.', '.')]\n",
      "[('My', 'PRP$'), ('good', 'JJ'), ('fortune', 'NN'), ('worked', 'VBD'), ('three', 'CD'), ('great', 'JJ'), ('minds', 'NNS'), ('.', '.')]\n",
      "[('Dr.', 'NNP'), ('Vikram', 'NNP'), ('Sarabhai', 'NNP'), ('Dept', 'NNP'), ('.', '.')]\n",
      "[('space', 'NN'), (',', ','), ('Professor', 'NNP'), ('Satish', 'NNP'), ('Dhawan', 'NNP'), (',', ','), ('succeeded', 'VBD'), ('Dr.', 'NNP'), ('Brahm', 'NNP'), ('Prakash', 'NNP'), (',', ','), ('father', 'RB'), ('nuclear', 'JJ'), ('material', 'NN'), ('.', '.')]\n",
      "[('I', 'PRP'), ('lucky', 'VBP'), ('worked', 'VBD'), ('three', 'CD'), ('closely', 'RB'), ('consider', 'VBP'), ('great', 'JJ'), ('opportunity', 'NN'), ('life', 'NN'), ('.', '.')]\n",
      "[('I', 'PRP'), ('see', 'VBP'), ('four', 'CD'), ('milestones', 'NNS'), ('career', 'NN'), (':', ':'), ('Twenty', 'CD'), ('years', 'NNS'), ('I', 'PRP'), ('spent', 'VBD'), ('ISRO', 'NNP'), ('.', '.')]\n",
      "[('I', 'PRP'), ('given', 'VBN'), ('opportunity', 'NN'), ('project', 'NN'), ('director', 'NN'), ('India', 'NNP'), ('’', 'NNP'), ('first', 'RB'), ('satellite', 'VBZ'), ('launch', 'JJ'), ('vehicle', 'NN'), (',', ','), ('SLV3', 'NNP'), ('.', '.')]\n",
      "[('The', 'DT'), ('one', 'CD'), ('launched', 'VBD'), ('Rohini', 'NNP'), ('.', '.')]\n",
      "[('These', 'DT'), ('years', 'NNS'), ('played', 'VBD'), ('important', 'JJ'), ('role', 'NN'), ('life', 'NN'), ('Scienc', 'NNP'), ('.', '.')]\n",
      "[('After', 'IN'), ('ISRO', 'NNP'), ('years', 'NNS'), (',', ','), ('I', 'PRP'), ('joined', 'VBD'), ('DRDO', 'NNP'), ('got', 'VBD'), ('chance', 'NN'), ('part', 'NN'), ('India', 'NNP'), ('’', 'NNP'), ('guided', 'VBD'), ('missile', 'NN'), ('program', 'NN'), ('.', '.')]\n",
      "[('It', 'PRP'), ('second', 'JJ'), ('bliss', 'JJ'), ('Agni', 'NNP'), ('met', 'VBD'), ('mission', 'NN'), ('requirements', 'NNS'), ('1994', 'CD'), ('.', '.')]\n",
      "[('The', 'DT'), ('Dept', 'NNP'), ('.', '.')]\n",
      "[('Atomic', 'NNP'), ('Energy', 'NNP'), ('DRDO', 'NNP'), ('tremendous', 'JJ'), ('partnership', 'NN'), ('recent', 'JJ'), ('nuclear', 'JJ'), ('tests', 'NNS'), (',', ','), ('May', 'NNP'), ('11', 'CD'), ('13', 'CD'), ('.', '.')]\n",
      "[('This', 'DT'), ('third', 'JJ'), ('bliss', 'NN'), ('.', '.')]\n",
      "[('The', 'DT'), ('joy', 'NN'), ('participating', 'VBG'), ('team', 'NN'), ('nuclear', 'JJ'), ('tests', 'NNS'), ('proving', 'VBG'), ('world', 'NN'), ('India', 'NNP'), ('make', 'NN'), (',', ','), ('longer', 'JJR'), ('developing', 'VBG'), ('nation', 'NN'), ('one', 'CD'), ('.', '.')]\n",
      "[('It', 'PRP'), ('made', 'VBD'), ('feel', 'VB'), ('proud', 'JJ'), ('Indian', 'NNP'), ('.', '.')]\n",
      "[('The', 'DT'), ('fact', 'NN'), ('developed', 'VBD'), ('Agni', 'NNP'), ('re-entry', 'NN'), ('structure', 'NN'), (',', ','), ('developed', 'VBD'), ('new', 'JJ'), ('material', 'NN'), ('.', '.')]\n",
      "[('A', 'DT'), ('light', 'JJ'), ('material', 'NN'), ('called', 'VBN'), ('carbon-carbon', 'NN'), ('.', '.')]\n",
      "[('One', 'CD'), ('day', 'NN'), ('orthopedic', 'JJ'), ('surgeon', 'NN'), ('Nizam', 'NNP'), ('Institute', 'NNP'), ('Medical', 'NNP'), ('Sciences', 'NNPS'), ('visited', 'VBD'), ('laboratory', 'NN'), ('.', '.')]\n",
      "[('He', 'PRP'), ('lifted', 'VBD'), ('material', 'NN'), ('found', 'NN'), ('light', 'VBD'), ('took', 'VBD'), ('hospital', 'NN'), ('showed', 'VBD'), ('patients', 'NNS'), ('.', '.')]\n",
      "[('There', 'EX'), ('little', 'JJ'), ('girls', 'NNS'), ('boys', 'VBZ'), ('heavy', 'JJ'), ('metallic', 'JJ'), ('calipers', 'NNS'), ('weighing', 'VBG'), ('three', 'CD'), ('kg', 'NN'), ('.', '.')]\n",
      "[(',', ','), ('dragging', 'VBG'), ('feet', 'NNS'), ('around', 'IN'), ('.', '.')]\n"
     ]
    },
    {
     "name": "stderr",
     "output_type": "stream",
     "text": [
      "[nltk_data] Downloading package averaged_perceptron_tagger to\n",
      "[nltk_data]     C:\\Users\\user\\AppData\\Roaming\\nltk_data...\n",
      "[nltk_data]   Package averaged_perceptron_tagger is already up-to-\n",
      "[nltk_data]       date!\n"
     ]
    }
   ],
   "source": [
    "## Apply stopwords filtering and then apply POS Tagging\n",
    "\n",
    "import nltk\n",
    "nltk.download('averaged_perceptron_tagger')\n",
    "\n",
    "for i in range(len(sentence_list)):\n",
    "    word_list = nltk.word_tokenize(sentence_list[i])\n",
    "    word_list = [word for word in word_list if word not in set(stop_words)]\n",
    "    pos_tag = nltk.pos_tag(word_list)\n",
    "    print(pos_tag)"
   ]
  },
  {
   "cell_type": "code",
   "execution_count": 18,
   "id": "a96bf8f8-1d1d-47b8-a4dc-e2f564aa968b",
   "metadata": {},
   "outputs": [
    {
     "name": "stdout",
     "output_type": "stream",
     "text": [
      "[[('Taj', 'NNP'), ('Mahal', 'NNP'), ('is', 'VBZ'), ('a', 'DT'), ('beautiful', 'JJ'), ('Monument', 'NN')]]\n"
     ]
    }
   ],
   "source": [
    "# Tokenize the sentence into words\n",
    "sentence = \"Taj Mahal is a beautiful Monument\"\n",
    "tokenized_sentence = [nltk.word_tokenize(sentence)]\n",
    "\n",
    "# Use pos_tag_sents to tag the parts of speech\n",
    "pos_tags = nltk.pos_tag_sents(tokenized_sentence)\n",
    "\n",
    "print(pos_tags)"
   ]
  },
  {
   "cell_type": "code",
   "execution_count": null,
   "id": "e7cdff8e-de62-4532-9f4c-31a4a1de6991",
   "metadata": {},
   "outputs": [],
   "source": []
  }
 ],
 "metadata": {
  "kernelspec": {
   "display_name": "Python 3 (ipykernel)",
   "language": "python",
   "name": "python3"
  },
  "language_info": {
   "codemirror_mode": {
    "name": "ipython",
    "version": 3
   },
   "file_extension": ".py",
   "mimetype": "text/x-python",
   "name": "python",
   "nbconvert_exporter": "python",
   "pygments_lexer": "ipython3",
   "version": "3.12.4"
  }
 },
 "nbformat": 4,
 "nbformat_minor": 5
}
