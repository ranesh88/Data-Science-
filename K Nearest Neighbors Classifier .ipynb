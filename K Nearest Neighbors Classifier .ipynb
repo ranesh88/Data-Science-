{
 "cells": [
  {
   "cell_type": "markdown",
   "id": "ac85eea4-47bf-4873-997c-27327fe441dc",
   "metadata": {},
   "source": [
    "### K Nearest Neighbors Classifier"
   ]
  },
  {
   "cell_type": "code",
   "execution_count": 1,
   "id": "a270576c-1b20-4247-9fcb-a18947036017",
   "metadata": {},
   "outputs": [],
   "source": [
    "import pandas as pd\n",
    "import seaborn as sns\n",
    "import matplotlib.pyplot as plt\n",
    "%matplotlib inline\n",
    "import numpy as np"
   ]
  },
  {
   "cell_type": "code",
   "execution_count": 3,
   "id": "68c2cba8-5dea-4435-b80f-29d13ea5ed07",
   "metadata": {},
   "outputs": [],
   "source": [
    "from sklearn.datasets import make_classification\n",
    "X,y = make_classification(\n",
    "      n_samples = 1000, # 1000 Observations\n",
    "      n_features = 3, # 3 total features\n",
    "      n_redundant = 1,\n",
    "      n_classes = 2, # Binary target / level\n",
    "      random_state = 42\n",
    ")"
   ]
  },
  {
   "cell_type": "code",
   "execution_count": 4,
   "id": "c842c26d-7356-4808-967c-2adf4ac211df",
   "metadata": {},
   "outputs": [
    {
     "data": {
      "text/plain": [
       "array([[ 2.48547786,  2.39963589, -1.46526917],\n",
       "       [ 2.20403962, -1.06965652,  0.00979545],\n",
       "       [-0.5726534 , -0.75494788,  0.42032991],\n",
       "       ...,\n",
       "       [-0.41608875,  0.46668963, -0.11024494],\n",
       "       [-1.57936997,  2.48498245, -0.71060102],\n",
       "       [-0.43277356,  0.89093028, -0.28069604]])"
      ]
     },
     "execution_count": 4,
     "metadata": {},
     "output_type": "execute_result"
    }
   ],
   "source": [
    "X"
   ]
  },
  {
   "cell_type": "code",
   "execution_count": 5,
   "id": "7d71d207-4a81-4531-8bfc-316844cdb48f",
   "metadata": {},
   "outputs": [],
   "source": [
    "from sklearn.model_selection import train_test_split\n",
    "X_train,X_test,y_train,y_test = train_test_split(X,y,test_size = 0.33,random_state =42)"
   ]
  },
  {
   "cell_type": "code",
   "execution_count": 6,
   "id": "a3f81684-02a2-48c7-82ba-139ad92f59e9",
   "metadata": {},
   "outputs": [],
   "source": [
    "from sklearn.neighbors import KNeighborsClassifier\n",
    "\n",
    "classifier = KNeighborsClassifier(n_neighbors=5,weights='uniform', \n",
    "                                  algorithm='auto', leaf_size=30, p=2, metric='minkowski')\n",
    "classifier.fit(X_train,y_train)\n",
    "y_pred = classifier.predict(X_test)"
   ]
  },
  {
   "cell_type": "code",
   "execution_count": 9,
   "id": "0e517732-3624-4af4-bb18-ca44e6ad7ed0",
   "metadata": {},
   "outputs": [
    {
     "name": "stdout",
     "output_type": "stream",
     "text": [
      "0.9181818181818182\n",
      "[[156  18]\n",
      " [  9 147]]\n",
      "              precision    recall  f1-score   support\n",
      "\n",
      "           0       0.95      0.90      0.92       174\n",
      "           1       0.89      0.94      0.92       156\n",
      "\n",
      "    accuracy                           0.92       330\n",
      "   macro avg       0.92      0.92      0.92       330\n",
      "weighted avg       0.92      0.92      0.92       330\n",
      "\n"
     ]
    }
   ],
   "source": [
    "from sklearn.metrics import confusion_matrix,classification_report,accuracy_score\n",
    "print(accuracy_score(y_pred,y_test))\n",
    "print(confusion_matrix(y_pred,y_test))\n",
    "print(classification_report(y_pred,y_test))"
   ]
  },
  {
   "cell_type": "code",
   "execution_count": null,
   "id": "58e5a483-07d5-4054-9fc4-dc87fb2dfda6",
   "metadata": {},
   "outputs": [],
   "source": []
  },
  {
   "cell_type": "code",
   "execution_count": null,
   "id": "7f0a3e44-206f-4c1d-b26e-44cedbcc467f",
   "metadata": {},
   "outputs": [],
   "source": []
  },
  {
   "cell_type": "code",
   "execution_count": null,
   "id": "fe098594-8643-4749-9474-35efee90972f",
   "metadata": {},
   "outputs": [],
   "source": []
  },
  {
   "cell_type": "code",
   "execution_count": null,
   "id": "ac195d34-fe68-43fd-a6dd-332e41a2c00c",
   "metadata": {},
   "outputs": [],
   "source": []
  },
  {
   "cell_type": "code",
   "execution_count": null,
   "id": "2ec1d901-59ad-4a54-b0cb-5dce0d8f0ec6",
   "metadata": {},
   "outputs": [],
   "source": []
  },
  {
   "cell_type": "code",
   "execution_count": null,
   "id": "fe7ccfda-c423-433b-b6f1-791db4f69623",
   "metadata": {},
   "outputs": [],
   "source": []
  },
  {
   "cell_type": "code",
   "execution_count": null,
   "id": "f7c929f9-4b84-4597-8218-8e9b0b403ff2",
   "metadata": {},
   "outputs": [],
   "source": []
  },
  {
   "cell_type": "code",
   "execution_count": null,
   "id": "b4f63805-00b1-453b-8218-7f8c21c7bc39",
   "metadata": {},
   "outputs": [],
   "source": []
  },
  {
   "cell_type": "code",
   "execution_count": null,
   "id": "79fe8ba7-89b7-4d1d-9526-cc0cc11f295b",
   "metadata": {},
   "outputs": [],
   "source": []
  },
  {
   "cell_type": "code",
   "execution_count": null,
   "id": "0abff5bd-b864-48fe-82ee-66a9445b6130",
   "metadata": {},
   "outputs": [],
   "source": []
  },
  {
   "cell_type": "code",
   "execution_count": null,
   "id": "d0ebe0cd-b2e0-410b-8c7a-74fe604c1a17",
   "metadata": {},
   "outputs": [],
   "source": []
  },
  {
   "cell_type": "code",
   "execution_count": null,
   "id": "99600ff4-448c-4bd9-83bb-3e576f607cf6",
   "metadata": {},
   "outputs": [],
   "source": []
  },
  {
   "cell_type": "code",
   "execution_count": null,
   "id": "3aaa5ec7-36f5-49d1-9bc1-2c7bdf64bddf",
   "metadata": {},
   "outputs": [],
   "source": []
  }
 ],
 "metadata": {
  "kernelspec": {
   "display_name": "Python 3 (ipykernel)",
   "language": "python",
   "name": "python3"
  },
  "language_info": {
   "codemirror_mode": {
    "name": "ipython",
    "version": 3
   },
   "file_extension": ".py",
   "mimetype": "text/x-python",
   "name": "python",
   "nbconvert_exporter": "python",
   "pygments_lexer": "ipython3",
   "version": "3.12.4"
  }
 },
 "nbformat": 4,
 "nbformat_minor": 5
}
