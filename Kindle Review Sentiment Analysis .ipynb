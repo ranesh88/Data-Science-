{
 "cells": [
  {
   "cell_type": "markdown",
   "id": "4828472b-50cd-4593-b49e-ff9cb6b188a9",
   "metadata": {},
   "source": [
    "### Kindle Review Sentiment Analysis"
   ]
  },
  {
   "cell_type": "markdown",
   "id": "7d8bad3a-4468-4b61-abf4-63117e4b08a8",
   "metadata": {},
   "source": [
    "Columns:: \n",
    "\n",
    "asin - ID of the product, like B000FA64PK\n",
    "\n",
    "helpful - helpfulness rating of the review - example: 2/3.\n",
    " \n",
    "overall - rating of the product.\n",
    "    \n",
    "reviewText - text of the review (heading).\n",
    "    \n",
    "reviewTime - time of the review (raw).\n",
    "    \n",
    "reviewerID - ID of the reviewer, like A3SPTOKDG7WBLN\n",
    "    \n",
    "reviewerName - name of the reviewer.\n",
    "    \n",
    "summary - summary of the review (description).\n",
    "    \n",
    "unixReviewTime - unix timestamp."
   ]
  },
  {
   "cell_type": "code",
   "execution_count": 1,
   "id": "adeb699f-3013-49b0-bdad-d91778a753ab",
   "metadata": {},
   "outputs": [],
   "source": [
    "import warnings\n",
    "warnings.filterwarnings(\"ignore\")"
   ]
  },
  {
   "cell_type": "code",
   "execution_count": 2,
   "id": "fd910bf0-e97f-444d-a77e-2eb586a4ea14",
   "metadata": {},
   "outputs": [
    {
     "data": {
      "text/html": [
       "<div>\n",
       "<style scoped>\n",
       "    .dataframe tbody tr th:only-of-type {\n",
       "        vertical-align: middle;\n",
       "    }\n",
       "\n",
       "    .dataframe tbody tr th {\n",
       "        vertical-align: top;\n",
       "    }\n",
       "\n",
       "    .dataframe thead th {\n",
       "        text-align: right;\n",
       "    }\n",
       "</style>\n",
       "<table border=\"1\" class=\"dataframe\">\n",
       "  <thead>\n",
       "    <tr style=\"text-align: right;\">\n",
       "      <th></th>\n",
       "      <th>Unnamed: 0</th>\n",
       "      <th>asin</th>\n",
       "      <th>helpful</th>\n",
       "      <th>overall</th>\n",
       "      <th>reviewText</th>\n",
       "      <th>reviewTime</th>\n",
       "      <th>reviewerID</th>\n",
       "      <th>reviewerName</th>\n",
       "      <th>summary</th>\n",
       "      <th>unixReviewTime</th>\n",
       "    </tr>\n",
       "  </thead>\n",
       "  <tbody>\n",
       "    <tr>\n",
       "      <th>0</th>\n",
       "      <td>0</td>\n",
       "      <td>B000F83SZQ</td>\n",
       "      <td>[0, 0]</td>\n",
       "      <td>5</td>\n",
       "      <td>I enjoy vintage books and movies so I enjoyed ...</td>\n",
       "      <td>05 5, 2014</td>\n",
       "      <td>A1F6404F1VG29J</td>\n",
       "      <td>Avidreader</td>\n",
       "      <td>Nice vintage story</td>\n",
       "      <td>1399248000</td>\n",
       "    </tr>\n",
       "    <tr>\n",
       "      <th>1</th>\n",
       "      <td>1</td>\n",
       "      <td>B000F83SZQ</td>\n",
       "      <td>[2, 2]</td>\n",
       "      <td>4</td>\n",
       "      <td>This book is a reissue of an old one; the auth...</td>\n",
       "      <td>01 6, 2014</td>\n",
       "      <td>AN0N05A9LIJEQ</td>\n",
       "      <td>critters</td>\n",
       "      <td>Different...</td>\n",
       "      <td>1388966400</td>\n",
       "    </tr>\n",
       "    <tr>\n",
       "      <th>2</th>\n",
       "      <td>2</td>\n",
       "      <td>B000F83SZQ</td>\n",
       "      <td>[2, 2]</td>\n",
       "      <td>4</td>\n",
       "      <td>This was a fairly interesting read.  It had ol...</td>\n",
       "      <td>04 4, 2014</td>\n",
       "      <td>A795DMNCJILA6</td>\n",
       "      <td>dot</td>\n",
       "      <td>Oldie</td>\n",
       "      <td>1396569600</td>\n",
       "    </tr>\n",
       "    <tr>\n",
       "      <th>3</th>\n",
       "      <td>3</td>\n",
       "      <td>B000F83SZQ</td>\n",
       "      <td>[1, 1]</td>\n",
       "      <td>5</td>\n",
       "      <td>I'd never read any of the Amy Brewster mysteri...</td>\n",
       "      <td>02 19, 2014</td>\n",
       "      <td>A1FV0SX13TWVXQ</td>\n",
       "      <td>Elaine H. Turley \"Montana Songbird\"</td>\n",
       "      <td>I really liked it.</td>\n",
       "      <td>1392768000</td>\n",
       "    </tr>\n",
       "    <tr>\n",
       "      <th>4</th>\n",
       "      <td>4</td>\n",
       "      <td>B000F83SZQ</td>\n",
       "      <td>[0, 1]</td>\n",
       "      <td>4</td>\n",
       "      <td>If you like period pieces - clothing, lingo, y...</td>\n",
       "      <td>03 19, 2014</td>\n",
       "      <td>A3SPTOKDG7WBLN</td>\n",
       "      <td>Father Dowling Fan</td>\n",
       "      <td>Period Mystery</td>\n",
       "      <td>1395187200</td>\n",
       "    </tr>\n",
       "    <tr>\n",
       "      <th>5</th>\n",
       "      <td>5</td>\n",
       "      <td>B000F83SZQ</td>\n",
       "      <td>[0, 0]</td>\n",
       "      <td>4</td>\n",
       "      <td>A beautiful in-depth character description mak...</td>\n",
       "      <td>05 26, 2014</td>\n",
       "      <td>A1RK2OCZDSGC6R</td>\n",
       "      <td>ubavka seirovska</td>\n",
       "      <td>Review</td>\n",
       "      <td>1401062400</td>\n",
       "    </tr>\n",
       "    <tr>\n",
       "      <th>6</th>\n",
       "      <td>6</td>\n",
       "      <td>B000F83SZQ</td>\n",
       "      <td>[0, 0]</td>\n",
       "      <td>4</td>\n",
       "      <td>I enjoyed this one tho I'm not sure why it's c...</td>\n",
       "      <td>06 10, 2014</td>\n",
       "      <td>A2HSAKHC3IBRE6</td>\n",
       "      <td>Wolfmist</td>\n",
       "      <td>Nice old fashioned story</td>\n",
       "      <td>1402358400</td>\n",
       "    </tr>\n",
       "    <tr>\n",
       "      <th>7</th>\n",
       "      <td>7</td>\n",
       "      <td>B000F83SZQ</td>\n",
       "      <td>[1, 1]</td>\n",
       "      <td>4</td>\n",
       "      <td>Never heard of Amy Brewster. But I don't need ...</td>\n",
       "      <td>03 22, 2014</td>\n",
       "      <td>A3DE6XGZ2EPADS</td>\n",
       "      <td>WPY</td>\n",
       "      <td>Enjoyable reading and reminding the old times</td>\n",
       "      <td>1395446400</td>\n",
       "    </tr>\n",
       "    <tr>\n",
       "      <th>8</th>\n",
       "      <td>8</td>\n",
       "      <td>B000FA64PA</td>\n",
       "      <td>[0, 0]</td>\n",
       "      <td>5</td>\n",
       "      <td>Darth Maul working under cloak of darkness com...</td>\n",
       "      <td>10 11, 2013</td>\n",
       "      <td>A1UG4Q4D3OAH3A</td>\n",
       "      <td>dsa</td>\n",
       "      <td>Darth Maul</td>\n",
       "      <td>1381449600</td>\n",
       "    </tr>\n",
       "    <tr>\n",
       "      <th>9</th>\n",
       "      <td>9</td>\n",
       "      <td>B000FA64PA</td>\n",
       "      <td>[0, 0]</td>\n",
       "      <td>4</td>\n",
       "      <td>This is a short story focused on Darth Maul's ...</td>\n",
       "      <td>02 13, 2011</td>\n",
       "      <td>AQZH7YTWQPOBE</td>\n",
       "      <td>Enjolras</td>\n",
       "      <td>Not bad, not exceptional</td>\n",
       "      <td>1297555200</td>\n",
       "    </tr>\n",
       "  </tbody>\n",
       "</table>\n",
       "</div>"
      ],
      "text/plain": [
       "   Unnamed: 0        asin helpful  overall  \\\n",
       "0           0  B000F83SZQ  [0, 0]        5   \n",
       "1           1  B000F83SZQ  [2, 2]        4   \n",
       "2           2  B000F83SZQ  [2, 2]        4   \n",
       "3           3  B000F83SZQ  [1, 1]        5   \n",
       "4           4  B000F83SZQ  [0, 1]        4   \n",
       "5           5  B000F83SZQ  [0, 0]        4   \n",
       "6           6  B000F83SZQ  [0, 0]        4   \n",
       "7           7  B000F83SZQ  [1, 1]        4   \n",
       "8           8  B000FA64PA  [0, 0]        5   \n",
       "9           9  B000FA64PA  [0, 0]        4   \n",
       "\n",
       "                                          reviewText   reviewTime  \\\n",
       "0  I enjoy vintage books and movies so I enjoyed ...   05 5, 2014   \n",
       "1  This book is a reissue of an old one; the auth...   01 6, 2014   \n",
       "2  This was a fairly interesting read.  It had ol...   04 4, 2014   \n",
       "3  I'd never read any of the Amy Brewster mysteri...  02 19, 2014   \n",
       "4  If you like period pieces - clothing, lingo, y...  03 19, 2014   \n",
       "5  A beautiful in-depth character description mak...  05 26, 2014   \n",
       "6  I enjoyed this one tho I'm not sure why it's c...  06 10, 2014   \n",
       "7  Never heard of Amy Brewster. But I don't need ...  03 22, 2014   \n",
       "8  Darth Maul working under cloak of darkness com...  10 11, 2013   \n",
       "9  This is a short story focused on Darth Maul's ...  02 13, 2011   \n",
       "\n",
       "       reviewerID                         reviewerName  \\\n",
       "0  A1F6404F1VG29J                           Avidreader   \n",
       "1   AN0N05A9LIJEQ                             critters   \n",
       "2   A795DMNCJILA6                                  dot   \n",
       "3  A1FV0SX13TWVXQ  Elaine H. Turley \"Montana Songbird\"   \n",
       "4  A3SPTOKDG7WBLN                   Father Dowling Fan   \n",
       "5  A1RK2OCZDSGC6R                     ubavka seirovska   \n",
       "6  A2HSAKHC3IBRE6                             Wolfmist   \n",
       "7  A3DE6XGZ2EPADS                                  WPY   \n",
       "8  A1UG4Q4D3OAH3A                                  dsa   \n",
       "9   AQZH7YTWQPOBE                             Enjolras   \n",
       "\n",
       "                                         summary  unixReviewTime  \n",
       "0                             Nice vintage story      1399248000  \n",
       "1                                   Different...      1388966400  \n",
       "2                                          Oldie      1396569600  \n",
       "3                             I really liked it.      1392768000  \n",
       "4                                 Period Mystery      1395187200  \n",
       "5                                         Review      1401062400  \n",
       "6                       Nice old fashioned story      1402358400  \n",
       "7  Enjoyable reading and reminding the old times      1395446400  \n",
       "8                                     Darth Maul      1381449600  \n",
       "9                       Not bad, not exceptional      1297555200  "
      ]
     },
     "execution_count": 2,
     "metadata": {},
     "output_type": "execute_result"
    }
   ],
   "source": [
    "import pandas as pd\n",
    "data = pd.read_csv(\"kindle_reviews.csv\")\n",
    "data.head(10)"
   ]
  },
  {
   "cell_type": "code",
   "execution_count": 3,
   "id": "0d923fb1-f976-4230-a067-c6de2fa1cd9c",
   "metadata": {},
   "outputs": [
    {
     "data": {
      "text/plain": [
       "(982619, 10)"
      ]
     },
     "execution_count": 3,
     "metadata": {},
     "output_type": "execute_result"
    }
   ],
   "source": [
    "data.shape"
   ]
  },
  {
   "cell_type": "code",
   "execution_count": 4,
   "id": "f3aecd37-d85f-48e0-aca2-03509fd3799f",
   "metadata": {},
   "outputs": [],
   "source": [
    "df = data[['reviewText','overall']]"
   ]
  },
  {
   "cell_type": "code",
   "execution_count": 5,
   "id": "f36c52dd-7cbc-4dbd-8cbc-05b955890653",
   "metadata": {},
   "outputs": [
    {
     "data": {
      "text/html": [
       "<div>\n",
       "<style scoped>\n",
       "    .dataframe tbody tr th:only-of-type {\n",
       "        vertical-align: middle;\n",
       "    }\n",
       "\n",
       "    .dataframe tbody tr th {\n",
       "        vertical-align: top;\n",
       "    }\n",
       "\n",
       "    .dataframe thead th {\n",
       "        text-align: right;\n",
       "    }\n",
       "</style>\n",
       "<table border=\"1\" class=\"dataframe\">\n",
       "  <thead>\n",
       "    <tr style=\"text-align: right;\">\n",
       "      <th></th>\n",
       "      <th>reviewText</th>\n",
       "      <th>overall</th>\n",
       "    </tr>\n",
       "  </thead>\n",
       "  <tbody>\n",
       "    <tr>\n",
       "      <th>0</th>\n",
       "      <td>I enjoy vintage books and movies so I enjoyed ...</td>\n",
       "      <td>5</td>\n",
       "    </tr>\n",
       "    <tr>\n",
       "      <th>1</th>\n",
       "      <td>This book is a reissue of an old one; the auth...</td>\n",
       "      <td>4</td>\n",
       "    </tr>\n",
       "    <tr>\n",
       "      <th>2</th>\n",
       "      <td>This was a fairly interesting read.  It had ol...</td>\n",
       "      <td>4</td>\n",
       "    </tr>\n",
       "    <tr>\n",
       "      <th>3</th>\n",
       "      <td>I'd never read any of the Amy Brewster mysteri...</td>\n",
       "      <td>5</td>\n",
       "    </tr>\n",
       "    <tr>\n",
       "      <th>4</th>\n",
       "      <td>If you like period pieces - clothing, lingo, y...</td>\n",
       "      <td>4</td>\n",
       "    </tr>\n",
       "  </tbody>\n",
       "</table>\n",
       "</div>"
      ],
      "text/plain": [
       "                                          reviewText  overall\n",
       "0  I enjoy vintage books and movies so I enjoyed ...        5\n",
       "1  This book is a reissue of an old one; the auth...        4\n",
       "2  This was a fairly interesting read.  It had ol...        4\n",
       "3  I'd never read any of the Amy Brewster mysteri...        5\n",
       "4  If you like period pieces - clothing, lingo, y...        4"
      ]
     },
     "execution_count": 5,
     "metadata": {},
     "output_type": "execute_result"
    }
   ],
   "source": [
    "df.head()"
   ]
  },
  {
   "cell_type": "code",
   "execution_count": 6,
   "id": "09b6c24f-ff70-466f-8ce4-e91a9986d625",
   "metadata": {},
   "outputs": [
    {
     "data": {
      "text/html": [
       "<div>\n",
       "<style scoped>\n",
       "    .dataframe tbody tr th:only-of-type {\n",
       "        vertical-align: middle;\n",
       "    }\n",
       "\n",
       "    .dataframe tbody tr th {\n",
       "        vertical-align: top;\n",
       "    }\n",
       "\n",
       "    .dataframe thead th {\n",
       "        text-align: right;\n",
       "    }\n",
       "</style>\n",
       "<table border=\"1\" class=\"dataframe\">\n",
       "  <thead>\n",
       "    <tr style=\"text-align: right;\">\n",
       "      <th></th>\n",
       "      <th>count</th>\n",
       "      <th>nulls</th>\n",
       "      <th>nulls%</th>\n",
       "      <th>cardinality</th>\n",
       "      <th>duplicated</th>\n",
       "      <th>datatype</th>\n",
       "    </tr>\n",
       "  </thead>\n",
       "  <tbody>\n",
       "    <tr>\n",
       "      <th>reviewText</th>\n",
       "      <td>982619</td>\n",
       "      <td>22</td>\n",
       "      <td>0.002239</td>\n",
       "      <td>982267</td>\n",
       "      <td>297</td>\n",
       "      <td>object</td>\n",
       "    </tr>\n",
       "    <tr>\n",
       "      <th>overall</th>\n",
       "      <td>982619</td>\n",
       "      <td>0</td>\n",
       "      <td>0.000000</td>\n",
       "      <td>5</td>\n",
       "      <td>297</td>\n",
       "      <td>int64</td>\n",
       "    </tr>\n",
       "  </tbody>\n",
       "</table>\n",
       "</div>"
      ],
      "text/plain": [
       "             count  nulls    nulls%  cardinality  duplicated datatype\n",
       "reviewText  982619     22  0.002239       982267         297   object\n",
       "overall     982619      0  0.000000            5         297    int64"
      ]
     },
     "execution_count": 6,
     "metadata": {},
     "output_type": "execute_result"
    }
   ],
   "source": [
    "pd.DataFrame({'count': df.shape[0], \n",
    "              'nulls': df.isnull().sum(), \n",
    "              'nulls%': df.isnull().mean() * 100, \n",
    "              'cardinality': df.nunique(),\n",
    "              'duplicated':df.duplicated().sum(),\n",
    "              'datatype':df.dtypes\n",
    "             })\n"
   ]
  },
  {
   "cell_type": "code",
   "execution_count": 7,
   "id": "3c623575-4ad7-4e3f-9e2d-8217754b870d",
   "metadata": {},
   "outputs": [
    {
     "name": "stdout",
     "output_type": "stream",
     "text": [
      "<class 'pandas.core.frame.DataFrame'>\n",
      "RangeIndex: 982619 entries, 0 to 982618\n",
      "Data columns (total 2 columns):\n",
      " #   Column      Non-Null Count   Dtype \n",
      "---  ------      --------------   ----- \n",
      " 0   reviewText  982597 non-null  object\n",
      " 1   rating      982619 non-null  int64 \n",
      "dtypes: int64(1), object(1)\n",
      "memory usage: 15.0+ MB\n"
     ]
    }
   ],
   "source": [
    "## Rename column name\n",
    "df.rename(columns = {'overall':'rating'},inplace = True)\n",
    "df.info()"
   ]
  },
  {
   "cell_type": "code",
   "execution_count": 8,
   "id": "75261e28-2b62-4d69-8450-2070ccfc51d2",
   "metadata": {},
   "outputs": [
    {
     "data": {
      "text/plain": [
       "0"
      ]
     },
     "execution_count": 8,
     "metadata": {},
     "output_type": "execute_result"
    }
   ],
   "source": [
    "## Drop All Duplicate Records\n",
    "df.drop_duplicates(inplace=True)\n",
    "df.duplicated().sum()"
   ]
  },
  {
   "cell_type": "code",
   "execution_count": 9,
   "id": "4980a58a-0f7c-4998-8697-86608bb364f3",
   "metadata": {},
   "outputs": [],
   "source": [
    "## Drop Rows with Any NaN Value\n",
    "df = df.dropna()"
   ]
  },
  {
   "cell_type": "code",
   "execution_count": 10,
   "id": "dc9571be-b038-4116-a527-58e28cea37c4",
   "metadata": {},
   "outputs": [
    {
     "data": {
      "text/html": [
       "<div>\n",
       "<style scoped>\n",
       "    .dataframe tbody tr th:only-of-type {\n",
       "        vertical-align: middle;\n",
       "    }\n",
       "\n",
       "    .dataframe tbody tr th {\n",
       "        vertical-align: top;\n",
       "    }\n",
       "\n",
       "    .dataframe thead th {\n",
       "        text-align: right;\n",
       "    }\n",
       "</style>\n",
       "<table border=\"1\" class=\"dataframe\">\n",
       "  <thead>\n",
       "    <tr style=\"text-align: right;\">\n",
       "      <th></th>\n",
       "      <th>count</th>\n",
       "      <th>nulls</th>\n",
       "      <th>nulls%</th>\n",
       "      <th>cardinality</th>\n",
       "      <th>duplicated</th>\n",
       "      <th>datatype</th>\n",
       "    </tr>\n",
       "  </thead>\n",
       "  <tbody>\n",
       "    <tr>\n",
       "      <th>reviewText</th>\n",
       "      <td>982319</td>\n",
       "      <td>0</td>\n",
       "      <td>0.0</td>\n",
       "      <td>982267</td>\n",
       "      <td>0</td>\n",
       "      <td>object</td>\n",
       "    </tr>\n",
       "    <tr>\n",
       "      <th>rating</th>\n",
       "      <td>982319</td>\n",
       "      <td>0</td>\n",
       "      <td>0.0</td>\n",
       "      <td>5</td>\n",
       "      <td>0</td>\n",
       "      <td>int64</td>\n",
       "    </tr>\n",
       "  </tbody>\n",
       "</table>\n",
       "</div>"
      ],
      "text/plain": [
       "             count  nulls  nulls%  cardinality  duplicated datatype\n",
       "reviewText  982319      0     0.0       982267           0   object\n",
       "rating      982319      0     0.0            5           0    int64"
      ]
     },
     "execution_count": 10,
     "metadata": {},
     "output_type": "execute_result"
    }
   ],
   "source": [
    "pd.DataFrame({'count': df.shape[0], \n",
    "              'nulls': df.isnull().sum(), \n",
    "              'nulls%': df.isnull().mean() * 100, \n",
    "              'cardinality': df.nunique(),\n",
    "              'duplicated':df.duplicated().sum(),\n",
    "              'datatype':df.dtypes\n",
    "             })"
   ]
  },
  {
   "cell_type": "code",
   "execution_count": 11,
   "id": "4328a259-e991-454b-8bec-f2f8cf3ebea8",
   "metadata": {},
   "outputs": [
    {
     "data": {
      "text/plain": [
       "rating\n",
       "5    575031\n",
       "4    253959\n",
       "3     96181\n",
       "2     34130\n",
       "1     23018\n",
       "Name: count, dtype: int64"
      ]
     },
     "execution_count": 11,
     "metadata": {},
     "output_type": "execute_result"
    }
   ],
   "source": [
    "df['rating'].value_counts()"
   ]
  },
  {
   "cell_type": "code",
   "execution_count": 12,
   "id": "4598a45f-3c6a-4f70-a3c4-2e1165728912",
   "metadata": {},
   "outputs": [],
   "source": [
    "## 1 for Positive Review and 0 for Negative Review\n",
    "df['rating'] = df['rating'].apply(lambda x:0 if x<3 else 1)"
   ]
  },
  {
   "cell_type": "code",
   "execution_count": 13,
   "id": "721e160f-927c-4e94-893d-bee142ed8dfa",
   "metadata": {},
   "outputs": [
    {
     "data": {
      "text/plain": [
       "rating\n",
       "1    925171\n",
       "0     57148\n",
       "Name: count, dtype: int64"
      ]
     },
     "execution_count": 13,
     "metadata": {},
     "output_type": "execute_result"
    }
   ],
   "source": [
    "df['rating'].value_counts()"
   ]
  },
  {
   "cell_type": "code",
   "execution_count": 14,
   "id": "26a0bd87-226a-47ff-839f-dec914e685ff",
   "metadata": {},
   "outputs": [
    {
     "name": "stdout",
     "output_type": "stream",
     "text": [
      "                                               reviewText  rating\n",
      "329777  Here is a fantastic mind bender! I loved it! H...       1\n",
      "119103  I've long liked this author's novels about Lou...       1\n",
      "538092  I haven't read a book this good in ages!!! Ms....       1\n",
      "739558                 Another great Miz Scarlet mystery!       1\n",
      "772756  I wasn't sure from some of the comments whethe...       1\n"
     ]
    }
   ],
   "source": [
    "# Assume df is your original DataFrame with 1 million records\n",
    "df_sampled = df.sample(n=12000, random_state=42)  # random_state ensures reproducibility\n",
    "\n",
    "# Display the sampled data\n",
    "print(df_sampled.head())"
   ]
  },
  {
   "cell_type": "code",
   "execution_count": 15,
   "id": "ae415e68-acd6-4eba-b368-5d49f139de51",
   "metadata": {},
   "outputs": [
    {
     "name": "stdout",
     "output_type": "stream",
     "text": [
      "<class 'pandas.core.frame.DataFrame'>\n",
      "Index: 12000 entries, 329777 to 393185\n",
      "Data columns (total 2 columns):\n",
      " #   Column      Non-Null Count  Dtype \n",
      "---  ------      --------------  ----- \n",
      " 0   reviewText  12000 non-null  object\n",
      " 1   rating      12000 non-null  int64 \n",
      "dtypes: int64(1), object(1)\n",
      "memory usage: 281.2+ KB\n"
     ]
    }
   ],
   "source": [
    "df_sampled.info()"
   ]
  },
  {
   "cell_type": "code",
   "execution_count": 16,
   "id": "3fe9888f-96c1-4321-92da-75910c858726",
   "metadata": {},
   "outputs": [
    {
     "data": {
      "text/plain": [
       "rating\n",
       "1    11353\n",
       "0      647\n",
       "Name: count, dtype: int64"
      ]
     },
     "execution_count": 16,
     "metadata": {},
     "output_type": "execute_result"
    }
   ],
   "source": [
    "df_sampled['rating'].value_counts()"
   ]
  },
  {
   "cell_type": "markdown",
   "id": "8f7feadc-6742-47b8-8962-74b2899cbe81",
   "metadata": {},
   "source": [
    "### Data Preprocessing and Cleaning"
   ]
  },
  {
   "cell_type": "code",
   "execution_count": 17,
   "id": "5cd66de9-4dca-45f2-a501-389b874e492f",
   "metadata": {},
   "outputs": [
    {
     "name": "stderr",
     "output_type": "stream",
     "text": [
      "[nltk_data] Downloading package punkt to\n",
      "[nltk_data]     C:\\Users\\user\\AppData\\Roaming\\nltk_data...\n",
      "[nltk_data]   Package punkt is already up-to-date!\n",
      "[nltk_data] Downloading package wordnet to\n",
      "[nltk_data]     C:\\Users\\user\\AppData\\Roaming\\nltk_data...\n",
      "[nltk_data]   Package wordnet is already up-to-date!\n",
      "[nltk_data] Downloading package stopwords to\n",
      "[nltk_data]     C:\\Users\\user\\AppData\\Roaming\\nltk_data...\n",
      "[nltk_data]   Package stopwords is already up-to-date!\n"
     ]
    }
   ],
   "source": [
    "import re\n",
    "import string\n",
    "#import emoji\n",
    "import contractions\n",
    "from textblob import TextBlob\n",
    "from nltk.corpus import stopwords\n",
    "from nltk.tokenize import word_tokenize\n",
    "from nltk.stem import WordNetLemmatizer\n",
    "\n",
    "# Download required NLTK resources\n",
    "import nltk\n",
    "nltk.download('punkt')\n",
    "nltk.download('wordnet')\n",
    "nltk.download('stopwords')\n",
    "\n",
    "# Initialize resources\n",
    "stop_words = set(stopwords.words('english'))\n",
    "lemmatizer = WordNetLemmatizer()\n",
    "\n",
    "def clean_text_column(df, column_name):\n",
    "    \n",
    "    def preprocess_text(text):\n",
    "        # Lowercase text\n",
    "        text = text.lower()\n",
    "        \n",
    "        # Remove extra spaces\n",
    "        text = re.sub(r'\\s+', ' ', text.strip())\n",
    "        \n",
    "        # Remove special characters and numbers\n",
    "        text = re.sub(r'[^a-z A-Z\\s]', '', text)\n",
    "        text = re.sub(r'\\d+', '', text)\n",
    "        \n",
    "        # Remove URLs\n",
    "        text = re.sub(r'http\\S+|www\\S+', '', text)\n",
    "        \n",
    "        # Remove punctuation\n",
    "        text = text.translate(str.maketrans('', '', string.punctuation))\n",
    "        \n",
    "        # Spelling correction\n",
    "        #text = str(TextBlob(text).correct())\n",
    "        \n",
    "        # Replace emojis with text descriptions\n",
    "        #text = emoji.demojize(text)\n",
    "        \n",
    "        # Handle contractions\n",
    "        text = contractions.fix(text)\n",
    "        \n",
    "        # Tokenize\n",
    "        tokens = word_tokenize(text)\n",
    "        \n",
    "        # Remove stopwords and lemmatize\n",
    "        tokens = [lemmatizer.lemmatize(word) for word in tokens if word not in stop_words]\n",
    "        \n",
    "        return ' '.join(tokens)\n",
    "\n",
    "    # Apply the preprocessing function to the specified column\n",
    "    return df_sampled['reviewText'].apply(preprocess_text)"
   ]
  },
  {
   "cell_type": "code",
   "execution_count": 19,
   "id": "c91f9662-56b0-4714-815a-4c7f15501bff",
   "metadata": {},
   "outputs": [],
   "source": [
    "df_sampled['cleaned_reviewText'] = clean_text_column(df_sampled, 'reviewText')"
   ]
  },
  {
   "cell_type": "code",
   "execution_count": 20,
   "id": "62f02edd-bb81-4474-8c16-98fcfbfcf268",
   "metadata": {},
   "outputs": [
    {
     "data": {
      "text/html": [
       "<div>\n",
       "<style scoped>\n",
       "    .dataframe tbody tr th:only-of-type {\n",
       "        vertical-align: middle;\n",
       "    }\n",
       "\n",
       "    .dataframe tbody tr th {\n",
       "        vertical-align: top;\n",
       "    }\n",
       "\n",
       "    .dataframe thead th {\n",
       "        text-align: right;\n",
       "    }\n",
       "</style>\n",
       "<table border=\"1\" class=\"dataframe\">\n",
       "  <thead>\n",
       "    <tr style=\"text-align: right;\">\n",
       "      <th></th>\n",
       "      <th>reviewText</th>\n",
       "      <th>rating</th>\n",
       "      <th>cleaned_reviewText</th>\n",
       "    </tr>\n",
       "  </thead>\n",
       "  <tbody>\n",
       "    <tr>\n",
       "      <th>329777</th>\n",
       "      <td>Here is a fantastic mind bender! I loved it! H...</td>\n",
       "      <td>1</td>\n",
       "      <td>fantastic mind bender loved hope take time rea...</td>\n",
       "    </tr>\n",
       "    <tr>\n",
       "      <th>119103</th>\n",
       "      <td>I've long liked this author's novels about Lou...</td>\n",
       "      <td>1</td>\n",
       "      <td>long liked author novel louisiana since grew l...</td>\n",
       "    </tr>\n",
       "    <tr>\n",
       "      <th>538092</th>\n",
       "      <td>I haven't read a book this good in ages!!! Ms....</td>\n",
       "      <td>1</td>\n",
       "      <td>read book good age m goodwin new fan loved sto...</td>\n",
       "    </tr>\n",
       "    <tr>\n",
       "      <th>739558</th>\n",
       "      <td>Another great Miz Scarlet mystery!</td>\n",
       "      <td>1</td>\n",
       "      <td>another great miz scarlet mystery</td>\n",
       "    </tr>\n",
       "    <tr>\n",
       "      <th>772756</th>\n",
       "      <td>I wasn't sure from some of the comments whethe...</td>\n",
       "      <td>1</td>\n",
       "      <td>sure comment whether wanted read book glad lov...</td>\n",
       "    </tr>\n",
       "  </tbody>\n",
       "</table>\n",
       "</div>"
      ],
      "text/plain": [
       "                                               reviewText  rating  \\\n",
       "329777  Here is a fantastic mind bender! I loved it! H...       1   \n",
       "119103  I've long liked this author's novels about Lou...       1   \n",
       "538092  I haven't read a book this good in ages!!! Ms....       1   \n",
       "739558                 Another great Miz Scarlet mystery!       1   \n",
       "772756  I wasn't sure from some of the comments whethe...       1   \n",
       "\n",
       "                                       cleaned_reviewText  \n",
       "329777  fantastic mind bender loved hope take time rea...  \n",
       "119103  long liked author novel louisiana since grew l...  \n",
       "538092  read book good age m goodwin new fan loved sto...  \n",
       "739558                  another great miz scarlet mystery  \n",
       "772756  sure comment whether wanted read book glad lov...  "
      ]
     },
     "execution_count": 20,
     "metadata": {},
     "output_type": "execute_result"
    }
   ],
   "source": [
    "df_sampled.head()"
   ]
  },
  {
   "cell_type": "code",
   "execution_count": 21,
   "id": "2c3e144a-bc05-4803-baad-a4be11aa34db",
   "metadata": {},
   "outputs": [],
   "source": [
    "df_sampled.drop([\"reviewText\"], axis = 1, inplace = True)"
   ]
  },
  {
   "cell_type": "code",
   "execution_count": 22,
   "id": "c39187a5-08f7-4dc8-8585-ead4b0491bd9",
   "metadata": {},
   "outputs": [
    {
     "data": {
      "text/html": [
       "<div>\n",
       "<style scoped>\n",
       "    .dataframe tbody tr th:only-of-type {\n",
       "        vertical-align: middle;\n",
       "    }\n",
       "\n",
       "    .dataframe tbody tr th {\n",
       "        vertical-align: top;\n",
       "    }\n",
       "\n",
       "    .dataframe thead th {\n",
       "        text-align: right;\n",
       "    }\n",
       "</style>\n",
       "<table border=\"1\" class=\"dataframe\">\n",
       "  <thead>\n",
       "    <tr style=\"text-align: right;\">\n",
       "      <th></th>\n",
       "      <th>rating</th>\n",
       "      <th>cleaned_reviewText</th>\n",
       "    </tr>\n",
       "  </thead>\n",
       "  <tbody>\n",
       "    <tr>\n",
       "      <th>329777</th>\n",
       "      <td>1</td>\n",
       "      <td>fantastic mind bender loved hope take time rea...</td>\n",
       "    </tr>\n",
       "    <tr>\n",
       "      <th>119103</th>\n",
       "      <td>1</td>\n",
       "      <td>long liked author novel louisiana since grew l...</td>\n",
       "    </tr>\n",
       "    <tr>\n",
       "      <th>538092</th>\n",
       "      <td>1</td>\n",
       "      <td>read book good age m goodwin new fan loved sto...</td>\n",
       "    </tr>\n",
       "    <tr>\n",
       "      <th>739558</th>\n",
       "      <td>1</td>\n",
       "      <td>another great miz scarlet mystery</td>\n",
       "    </tr>\n",
       "    <tr>\n",
       "      <th>772756</th>\n",
       "      <td>1</td>\n",
       "      <td>sure comment whether wanted read book glad lov...</td>\n",
       "    </tr>\n",
       "  </tbody>\n",
       "</table>\n",
       "</div>"
      ],
      "text/plain": [
       "        rating                                 cleaned_reviewText\n",
       "329777       1  fantastic mind bender loved hope take time rea...\n",
       "119103       1  long liked author novel louisiana since grew l...\n",
       "538092       1  read book good age m goodwin new fan loved sto...\n",
       "739558       1                  another great miz scarlet mystery\n",
       "772756       1  sure comment whether wanted read book glad lov..."
      ]
     },
     "execution_count": 22,
     "metadata": {},
     "output_type": "execute_result"
    }
   ],
   "source": [
    "df_sampled.head()"
   ]
  },
  {
   "cell_type": "code",
   "execution_count": 25,
   "id": "ce82439b-abf5-4870-99cd-f9754d834957",
   "metadata": {},
   "outputs": [
    {
     "data": {
      "text/plain": [
       "((9600,), (2400,), (9600,), (2400,))"
      ]
     },
     "execution_count": 25,
     "metadata": {},
     "output_type": "execute_result"
    }
   ],
   "source": [
    "# Train Test Split of the dataset\n",
    "from sklearn.model_selection import train_test_split\n",
    "X_train, X_test, y_train, y_test = train_test_split(df_sampled['cleaned_reviewText'],df_sampled['rating'], test_size=0.20, random_state=42, shuffle=True)\n",
    "\n",
    "X_train.shape,X_test.shape,y_train.shape, y_test.shape"
   ]
  },
  {
   "cell_type": "markdown",
   "id": "5a2189fe-fd8a-4015-8944-bbd24b75e514",
   "metadata": {},
   "source": [
    "### Sentence to Vector Conversion (Text Vectorization)"
   ]
  },
  {
   "cell_type": "code",
   "execution_count": 26,
   "id": "e9be6834-a0f1-4714-8360-90ba9d1d0451",
   "metadata": {},
   "outputs": [
    {
     "name": "stdout",
     "output_type": "stream",
     "text": [
      "Train shape: (9600, 5000) (9600, 5000)\n",
      "Test shape: (2400, 5000) (2400, 5000)\n"
     ]
    }
   ],
   "source": [
    "from sklearn.feature_extraction.text import CountVectorizer, TfidfVectorizer\n",
    "#  Vectorize the text data using CountVectorizer (Bag of Words)\n",
    "bow_vectorizer = CountVectorizer(stop_words='english', max_features=5000)  # Limit to top 5000 features\n",
    "X_train_bow = bow_vectorizer.fit_transform(X_train)\n",
    "X_test_bow = bow_vectorizer.transform(X_test)\n",
    "\n",
    "# Vectorize the text data using TfidfVectorizer\n",
    "tfidf_vectorizer = TfidfVectorizer(stop_words='english', max_features=5000)  # Limit to top 5000 features\n",
    "X_train_tfidf = tfidf_vectorizer.fit_transform(X_train)\n",
    "X_test_tfidf = tfidf_vectorizer.transform(X_test)\n",
    "\n",
    "# Print shape of the training and testing datasets\n",
    "print(\"Train shape:\", X_train_bow.shape, X_train_tfidf.shape)\n",
    "print(\"Test shape:\", X_test_bow.shape, X_test_tfidf.shape)"
   ]
  },
  {
   "cell_type": "markdown",
   "id": "b8231cf9-b26f-408d-9fc6-9892498cb7c9",
   "metadata": {},
   "source": [
    "### Model Training (Random Forest Classifier)"
   ]
  },
  {
   "cell_type": "code",
   "execution_count": 28,
   "id": "6397b183-3261-486b-b3e9-baac5236ed55",
   "metadata": {},
   "outputs": [],
   "source": [
    "from sklearn.ensemble import RandomForestClassifier\n",
    "from sklearn.pipeline import Pipeline\n",
    "\n",
    "# Create a pipeline for model training and evaluation with Random Forest and BOW\n",
    "bow_pipeline = Pipeline([\n",
    "    ('vectorizer', bow_vectorizer),\n",
    "    ('classifier', RandomForestClassifier(n_estimators=100, class_weight='balanced', random_state=42))  # Random Forest with class_weight='balanced'\n",
    "])\n",
    "\n",
    "# Fit the model on the training data (BOW)\n",
    "bow_pipeline.fit(X_train, y_train)\n",
    "\n",
    "# Predict on the test data\n",
    "y_pred_bow = bow_pipeline.predict(X_test)"
   ]
  },
  {
   "cell_type": "code",
   "execution_count": 29,
   "id": "9d5a0776-8ef4-4ce4-a2a7-e545a23ab43d",
   "metadata": {},
   "outputs": [],
   "source": [
    "# Create a pipeline for model training and evaluation with Random Forest and TF-IDF\n",
    "tfidf_pipeline = Pipeline([\n",
    "    ('vectorizer', tfidf_vectorizer),\n",
    "    ('classifier', RandomForestClassifier(n_estimators=100, class_weight='balanced', random_state=42))  # Random Forest with class_weight='balanced'\n",
    "])\n",
    "\n",
    "# Fit the model on the training data (TF-IDF)\n",
    "tfidf_pipeline.fit(X_train, y_train)\n",
    "\n",
    "# Predict on the test data\n",
    "y_pred_tfidf = tfidf_pipeline.predict(X_test)\n"
   ]
  },
  {
   "cell_type": "markdown",
   "id": "550c3bba-20af-4bf1-a20f-74c8a2f358f1",
   "metadata": {},
   "source": [
    "### Evaluation of the Model"
   ]
  },
  {
   "cell_type": "code",
   "execution_count": 32,
   "id": "13205e2c-9637-485b-916e-9e837eeda9fc",
   "metadata": {},
   "outputs": [
    {
     "name": "stdout",
     "output_type": "stream",
     "text": [
      "BOW + Random Forest Model Evaluation:\n",
      "----------------------------------------\n",
      "Accuracy (BOW): 0.9470833333333334\n",
      "\n",
      "Classification Report (BOW):\n",
      "               precision    recall  f1-score   support\n",
      "\n",
      "           0       0.69      0.07      0.12       132\n",
      "           1       0.95      1.00      0.97      2268\n",
      "\n",
      "    accuracy                           0.95      2400\n",
      "   macro avg       0.82      0.53      0.55      2400\n",
      "weighted avg       0.93      0.95      0.93      2400\n",
      "\n"
     ]
    },
    {
     "data": {
      "image/png": "[encoded data removed]",
      "text/plain": [
       "<Figure size 800x600 with 2 Axes>"
      ]
     },
     "metadata": {},
     "output_type": "display_data"
    },
    {
     "name": "stdout",
     "output_type": "stream",
     "text": [
      "\n",
      "TF-IDF + Random Forest Model Evaluation:\n",
      "-------------------------------------------\n",
      "Accuracy (TF-IDF): 0.945\n",
      "\n",
      "Classification Report (TF-IDF):\n",
      "               precision    recall  f1-score   support\n",
      "\n",
      "           0       0.50      0.03      0.06       132\n",
      "           1       0.95      1.00      0.97      2268\n",
      "\n",
      "    accuracy                           0.94      2400\n",
      "   macro avg       0.72      0.51      0.51      2400\n",
      "weighted avg       0.92      0.94      0.92      2400\n",
      "\n"
     ]
    },
    {
     "data": {
      "image/png": "[encoded data removed]",
      "text/plain": [
       "<Figure size 800x600 with 2 Axes>"
      ]
     },
     "metadata": {},
     "output_type": "display_data"
    }
   ],
   "source": [
    "from sklearn.metrics import accuracy_score, confusion_matrix, classification_report\n",
    "import seaborn as sns\n",
    "import matplotlib.pyplot as plt\n",
    "\n",
    "# Evaluate BOW Model\n",
    "print(\"BOW + Random Forest Model Evaluation:\")\n",
    "print(\"----------------------------------------\")\n",
    "accuracy_bow = accuracy_score(y_test, y_pred_bow)\n",
    "conf_matrix_bow = confusion_matrix(y_test, y_pred_bow)\n",
    "class_report_bow = classification_report(y_test, y_pred_bow)\n",
    "\n",
    "print(\"Accuracy (BOW):\", accuracy_bow)\n",
    "print(\"\\nClassification Report (BOW):\\n\", class_report_bow)\n",
    "\n",
    "# Visualize Confusion Matrix for BOW\n",
    "plt.figure(figsize=(8, 6))\n",
    "sns.heatmap(conf_matrix_bow, annot=True, fmt='d', cmap='coolwarm', xticklabels=[1, 2, 3, 4, 5], yticklabels=[1, 2, 3, 4, 5])\n",
    "plt.title(\"Confusion Matrix (BOW)\")\n",
    "plt.xlabel(\"Predicted\")\n",
    "plt.ylabel(\"Actual\")\n",
    "plt.show()\n",
    "\n",
    "# Evaluate TF-IDF Model\n",
    "print(\"\\nTF-IDF + Random Forest Model Evaluation:\")\n",
    "print(\"-------------------------------------------\")\n",
    "accuracy_tfidf = accuracy_score(y_test, y_pred_tfidf)\n",
    "conf_matrix_tfidf = confusion_matrix(y_test, y_pred_tfidf)\n",
    "class_report_tfidf = classification_report(y_test, y_pred_tfidf)\n",
    "\n",
    "print(\"Accuracy (TF-IDF):\", accuracy_tfidf)\n",
    "print(\"\\nClassification Report (TF-IDF):\\n\", class_report_tfidf)\n",
    "\n",
    "# Visualize Confusion Matrix for TF-IDF\n",
    "plt.figure(figsize=(8, 6))\n",
    "sns.heatmap(conf_matrix_tfidf, annot=True, fmt='d', cmap='YlGnBu', xticklabels=[1, 2, 3, 4, 5], yticklabels=[1, 2, 3, 4, 5])\n",
    "plt.title(\"Confusion Matrix (TF-IDF)\")\n",
    "plt.xlabel(\"Predicted\")\n",
    "plt.ylabel(\"Actual\")\n",
    "plt.show()"
   ]
  },
  {
   "cell_type": "markdown",
   "id": "f0967b84-45c2-44cb-b2b9-27e5f07179b0",
   "metadata": {},
   "source": [
    "### Text Vetorization with Word2Vec Model "
   ]
  },
  {
   "cell_type": "code",
   "execution_count": 35,
   "id": "b73c46cf-5f36-49e2-91ac-83ccd8add439",
   "metadata": {},
   "outputs": [
    {
     "name": "stdout",
     "output_type": "stream",
     "text": [
      "Shape of X_train_word2vec: (9600, 100)\n",
      "Shape of X_test_word2vec: (2400, 100)\n"
     ]
    }
   ],
   "source": [
    "from gensim.models import Word2Vec\n",
    "import numpy as np\n",
    "\n",
    "# Ensure X_train and X_test are strings and handle missing values\n",
    "X_train = X_train.fillna(\"missing\").astype(str)\n",
    "X_test = X_test.fillna(\"missing\").astype(str)\n",
    "\n",
    "# Tokenize the training and test data\n",
    "X_train_tokenized = [sentence.split() for sentence in X_train if isinstance(sentence, str) and sentence.strip()]\n",
    "X_test_tokenized = [sentence.split() for sentence in X_test if isinstance(sentence, str) and sentence.strip()]\n",
    "\n",
    "# Train the Word2Vec model on the tokenized X_train\n",
    "vector_size = 100  # Size of Word2Vec vectors\n",
    "word2vec_model = Word2Vec(sentences=X_train_tokenized, vector_size=vector_size, window=5, min_count=2, sg=1, workers=4, seed=42)\n",
    "\n",
    "# Function to calculate the document vector\n",
    "def documents_to_vectors(tokenized_data, model, vector_size):\n",
    "    document_vectors = []\n",
    "    for tokens in tokenized_data:\n",
    "        # Filter words that are in the Word2Vec vocabulary\n",
    "        word_vectors = [model.wv[word] for word in tokens if word in model.wv]\n",
    "        if word_vectors:\n",
    "            # Average word vectors for the document\n",
    "            document_vectors.append(np.mean(word_vectors, axis=0))\n",
    "        else:\n",
    "            # Use a zero vector if no words in the document are in the Word2Vec vocabulary\n",
    "            document_vectors.append(np.zeros(vector_size))\n",
    "    return np.array(document_vectors)\n",
    "\n",
    "# Apply the Word2Vec transformation to X_train and X_test\n",
    "X_train_word2vec = documents_to_vectors(X_train_tokenized, word2vec_model, vector_size)\n",
    "X_test_word2vec = documents_to_vectors(X_test_tokenized, word2vec_model, vector_size)\n",
    "\n",
    "# Display shapes\n",
    "print(\"Shape of X_train_word2vec:\", X_train_word2vec.shape)\n",
    "print(\"Shape of X_test_word2vec:\", X_test_word2vec.shape)"
   ]
  },
  {
   "cell_type": "markdown",
   "id": "ee9dbb8b-641b-4751-9529-d06d7b643abb",
   "metadata": {},
   "source": [
    "### Model Training with Random Forest Classification"
   ]
  },
  {
   "cell_type": "code",
   "execution_count": 36,
   "id": "a6724c04-9530-4aa9-ab71-44d42a36a0fc",
   "metadata": {},
   "outputs": [
    {
     "name": "stdout",
     "output_type": "stream",
     "text": [
      "Accuracy: 0.95\n",
      "\n",
      "Classification Report:\n",
      "              precision    recall  f1-score   support\n",
      "\n",
      "           0       0.67      0.03      0.06       132\n",
      "           1       0.95      1.00      0.97      2268\n",
      "\n",
      "    accuracy                           0.95      2400\n",
      "   macro avg       0.81      0.51      0.52      2400\n",
      "weighted avg       0.93      0.95      0.92      2400\n",
      "\n"
     ]
    },
    {
     "data": {
      "image/png": "[encoded data removed]",
      "text/plain": [
       "<Figure size 800x600 with 2 Axes>"
      ]
     },
     "metadata": {},
     "output_type": "display_data"
    }
   ],
   "source": [
    "from sklearn.ensemble import RandomForestClassifier\n",
    "from sklearn.metrics import accuracy_score, classification_report, confusion_matrix\n",
    "import matplotlib.pyplot as plt\n",
    "import seaborn as sns\n",
    "\n",
    "# Initialize RandomForestClassifier with class_weight='balanced'\n",
    "rf_classifier = RandomForestClassifier(\n",
    "    n_estimators=100,  # Number of trees\n",
    "    class_weight=\"balanced\",  # Handle class imbalance\n",
    "    random_state=42,  # For reproducibility\n",
    "    n_jobs=-1  # Use all available processors\n",
    ")\n",
    "\n",
    "# Fit the model on the Word2Vec-transformed training data\n",
    "rf_classifier.fit(X_train_word2vec, y_train)\n",
    "\n",
    "# Predict on the test data\n",
    "y_pred = rf_classifier.predict(X_test_word2vec)\n",
    "\n",
    "# Evaluate the model\n",
    "accuracy = accuracy_score(y_test, y_pred)\n",
    "print(f\"Accuracy: {accuracy:.2f}\")\n",
    "\n",
    "# Classification report\n",
    "print(\"\\nClassification Report:\")\n",
    "print(classification_report(y_test, y_pred))\n",
    "\n",
    "# Confusion matrix\n",
    "cm = confusion_matrix(y_test, y_pred)\n",
    "plt.figure(figsize=(8, 6))\n",
    "sns.heatmap(cm, annot=True, fmt='d', cmap='Blues', xticklabels=rf_classifier.classes_, yticklabels=rf_classifier.classes_)\n",
    "plt.title(\"Confusion Matrix\")\n",
    "plt.xlabel(\"Predicted Labels\")\n",
    "plt.ylabel(\"True Labels\")\n",
    "plt.show()\n"
   ]
  },
  {
   "cell_type": "code",
   "execution_count": null,
   "id": "66dd9d47-30ab-4298-ab6c-bcfe0f6feca5",
   "metadata": {},
   "outputs": [],
   "source": []
  }
 ],
 "metadata": {
  "kernelspec": {
   "display_name": "Python 3 (ipykernel)",
   "language": "python",
   "name": "python3"
  },
  "language_info": {
   "codemirror_mode": {
    "name": "ipython",
    "version": 3
   },
   "file_extension": ".py",
   "mimetype": "text/x-python",
   "name": "python",
   "nbconvert_exporter": "python",
   "pygments_lexer": "ipython3",
   "version": "3.12.4"
  }
 },
 "nbformat": 4,
 "nbformat_minor": 5
}
