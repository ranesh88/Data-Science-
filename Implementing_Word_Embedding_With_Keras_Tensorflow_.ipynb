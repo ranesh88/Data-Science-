{
  "nbformat": 4,
  "nbformat_minor": 0,
  "metadata": {
    "colab": {
      "private_outputs": true,
      "provenance": [],
      "authorship_tag": "ABX9TyOwwMnYQwRRGA6ovXNrB1fI",
      "include_colab_link": true
    },
    "kernelspec": {
      "name": "python3",
      "display_name": "Python 3"
    },
    "language_info": {
      "name": "python"
    }
  },
  "cells": [
    {
      "cell_type": "markdown",
      "metadata": {
        "id": "view-in-github",
        "colab_type": "text"
      },
      "source": [
        "<a href=\"https://colab.research.google.com/github/ranesh88/Data-Science-/blob/main/Implementing_Word_Embedding_With_Keras_Tensorflow_.ipynb\" target=\"_parent\"><img src=\"https://colab.research.google.com/assets/colab-badge.svg\" alt=\"Open In Colab\"/></a>"
      ]
    },
    {
      "cell_type": "code",
      "execution_count": null,
      "metadata": {
        "id": "y9uTxgt4Ikiu"
      },
      "outputs": [],
      "source": [
        "from tensorflow.keras.preprocessing.text import one_hot\n",
        "from tensorflow.keras.preprocessing.sequence import pad_sequences\n",
        "from tensorflow.keras.layers import Embedding\n",
        "from tensorflow.keras.models import Sequential\n",
        "\n",
        "# List of sentences\n",
        "sent = [\n",
        "    \"the glass of milk\",\n",
        "    \"the glass of juice\",\n",
        "    \"I am a good developer\",\n",
        "    \"I am a good boy\",\n",
        "    \"Understand the meaning of the words\",\n",
        "    \"the food is good\",\n",
        "    \"a cup of tea\",\n",
        "    \"your videos are good\",\n",
        "]\n",
        "\n",
        "# Define the vocabulary size\n",
        "voc_size = 10000\n",
        "\n",
        "# One hot Representation\n",
        "one_hot_repr = [one_hot(sentence, voc_size) for sentence in sent]\n",
        "\n",
        "# Pad the sequences to ensure uniform length\n",
        "sent_length = 8  # Define the fixed sequence length\n",
        "embedded_docs = pad_sequences(one_hot_repr, maxlen=sent_length, padding='pre')\n",
        "print(\"Padded Sequences:\\n\", embedded_docs)\n",
        "\n",
        "# Feature Representation\n",
        "dim = 10  # Embedding dimension\n",
        "\n",
        "# Create and compile the model\n",
        "model = Sequential()\n",
        "model.add(Embedding(input_dim=voc_size, output_dim=dim, input_length=sent_length))  # Explicit input_length\n",
        "model.build(input_shape=(None, sent_length))  # Explicitly build the model\n",
        "model.compile(optimizer='adam', loss='mse')\n",
        "model.summary()\n"
      ]
    },
    {
      "cell_type": "code",
      "source": [
        "model.predict(embedded_docs)"
      ],
      "metadata": {
        "id": "WaMaLRQFImDy"
      },
      "execution_count": null,
      "outputs": []
    },
    {
      "cell_type": "code",
      "source": [
        "embedded_docs[0]"
      ],
      "metadata": {
        "id": "H8G9iIYpMpr_"
      },
      "execution_count": null,
      "outputs": []
    },
    {
      "cell_type": "code",
      "source": [],
      "metadata": {
        "id": "ztmgkX_uMuNs"
      },
      "execution_count": null,
      "outputs": []
    }
  ]
}